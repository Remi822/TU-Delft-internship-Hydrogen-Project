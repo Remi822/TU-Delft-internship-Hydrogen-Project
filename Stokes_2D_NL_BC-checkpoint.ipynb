{
 "cells": [
  {
   "cell_type": "markdown",
   "id": "4d3aa748-248b-44d2-89c9-3e1cb136646a",
   "metadata": {},
   "source": [
    "## Section 1.1 : Import packages "
   ]
  },
  {
   "cell_type": "code",
   "execution_count": 1,
   "id": "13965216-0d14-47dc-9f2a-0b248a074f5b",
   "metadata": {},
   "outputs": [],
   "source": [
    "using Ferrite\n",
    "using SparseArrays\n",
    "using LinearAlgebra         # provides mul! \n",
    "using UnPack                # added for time integration using DifferentialEquations.jl \n",
    "using OrdinaryDiffEq        # added for time integration using DifferentialEquations.jl\n",
    "using DifferentialEquations # added for time integration using DifferentialEquations.jl   \n",
    "using StaticArrays    \n",
    "using WriteVTK\n",
    "using Plots                 # provides contour plot of cell averages \n",
    "using NLSolvers\n",
    "using ForwardDiff\n",
    "using Printf  \n",
    "# using Sundials\n",
    "using NLsolve\n",
    "##using DiffEqBase: NLsolveJL\n",
    "using NonlinearSolve"
   ]
  },
  {
   "cell_type": "markdown",
   "id": "f13cfe3f-1a8a-4215-8902-8919c4a4125f",
   "metadata": {},
   "source": [
    "## Section 1.2 : Definition of the mesh, the boundary conditions, the initial condition, the quadrature etc."
   ]
  },
  {
   "cell_type": "code",
   "execution_count": 2,
   "id": "54c5fde2-293a-465b-a642-a1eb89f3e88b",
   "metadata": {},
   "outputs": [
    {
     "name": "stdout",
     "output_type": "stream",
     "text": [
      "Nombre de noeuds : 451\n",
      "Nombre d'éléments : 400\n"
     ]
    }
   ],
   "source": [
    "# Mesh definition \n",
    "Lx = 4.0\n",
    "Ly = 1.0 \n",
    "h_x = 0.1\n",
    "h_y = 0.1\n",
    "nx = Int(Lx / h_x ) # 80 / 0.5\n",
    "ny = Int(Ly / h_y) # 20 / 0.5\n",
    "## grid creation\n",
    "grid = generate_grid(Quadrilateral, (nx, ny), Vec((0.0, 0.0)), Vec((Lx, Ly)))\n",
    "println(\"Nombre de noeuds : \", length(grid.nodes))\n",
    "println(\"Nombre d'éléments : \", length(grid.cells))\n",
    "\n",
    "# interpolation and quadrature\n",
    "ipu = Lagrange{RefQuadrilateral, 2}()^2 # quadratic\n",
    "ipp = Lagrange{RefQuadrilateral, 1}()   # linear\n",
    "ipg = Lagrange{RefQuadrilateral, 1}() # linear geometric interpolation\n",
    "qr = QuadratureRule{RefQuadrilateral}(4)\n",
    "cvu = CellValues(qr, ipu, ipg)\n",
    "cvp = CellValues(qr, ipp, ipg)\n",
    "qr_facet = FacetQuadratureRule{RefQuadrilateral}(4)\n",
    "fvu = FacetValues(qr_facet, ipu, ipg)\n",
    "fvp = FacetValues(qr_facet, ipp, ipg)\n",
    "\n",
    "# dof handler \n",
    "dh = DofHandler(grid)\n",
    "add!(dh, :u, ipu)\n",
    "add!(dh, :p, ipp)\n",
    "close!(dh)\n",
    "\n",
    "# constraint handler \n",
    "ch = ConstraintHandler(dh)\n",
    "left_boundary = getfacetset(grid, \"left\")\n",
    "## conditions on the top and on the bottom\n",
    "Γ23 =  union(getfacetset(dh.grid, \"top\"), getfacetset(dh.grid, \"bottom\"),)\n",
    "dbc = Dirichlet(:u, Γ23, (x, t) -> [0.0, 0.0], [1, 2])\n",
    "add!(ch, dbc)\n",
    "dbc_outlet = Dirichlet(:p, getfacetset(dh.grid, \"right\"), (x, t) -> 0.0)\n",
    "add!(ch,dbc_outlet)\n",
    "# Finalize\n",
    "close!(ch)\n",
    "update!(ch, 0.0)"
   ]
  },
  {
   "cell_type": "markdown",
   "id": "c81d5415-2d28-44bb-8b21-578c5a990f5c",
   "metadata": {},
   "source": [
    "## Section 1.3 : Assembly of the stifness matrix "
   ]
  },
  {
   "cell_type": "code",
   "execution_count": 3,
   "id": "a60843fe-402a-4adc-b022-975747983b1f",
   "metadata": {},
   "outputs": [
    {
     "data": {
      "text/plain": [
       "assemble_stifness_matrix! (generic function with 1 method)"
      ]
     },
     "execution_count": 3,
     "metadata": {},
     "output_type": "execute_result"
    }
   ],
   "source": [
    "\n",
    "function assemble_stifness_matrix!(K, f, dh, cvu, cvp, μ)\n",
    "    assembler = start_assemble(K, f)\n",
    "    ke = zeros(ndofs_per_cell(dh), ndofs_per_cell(dh))\n",
    "    fe = zeros(ndofs_per_cell(dh))\n",
    "    range_u = dof_range(dh, :u)\n",
    "    ndofs_u = length(range_u)\n",
    "    range_p = dof_range(dh, :p)\n",
    "    ndofs_p = length(range_p)\n",
    "    ϕᵤ = Vector{Vec{2, Float64}}(undef, ndofs_u)\n",
    "    ∇ϕᵤ = Vector{Tensor{2, 2, Float64, 4}}(undef, ndofs_u)\n",
    "    divϕᵤ = Vector{Float64}(undef, ndofs_u)\n",
    "    ϕₚ = Vector{Float64}(undef, ndofs_p)\n",
    "    for cell in CellIterator(dh)\n",
    "        Ferrite.reinit!(cvu, cell)\n",
    "        Ferrite.reinit!(cvp, cell)\n",
    "        ke .= 0\n",
    "        fe .= 0\n",
    "        for qp in 1:getnquadpoints(cvu)\n",
    "            dΩ = getdetJdV(cvu, qp)\n",
    "            for i in 1:ndofs_u\n",
    "                ϕᵤ[i] = shape_value(cvu, qp, i)\n",
    "                ∇ϕᵤ[i] = shape_gradient(cvu, qp, i)\n",
    "                divϕᵤ[i] = shape_divergence(cvu, qp, i)\n",
    "            end\n",
    "            for i in 1:ndofs_p\n",
    "                ϕₚ[i] = shape_value(cvp, qp, i)\n",
    "            end\n",
    "            # u-u\n",
    "            for (i, I) in pairs(range_u), (j, J) in pairs(range_u)\n",
    "                ke[I, J] += μ * (∇ϕᵤ[i] ⊡ ∇ϕᵤ[j]) * dΩ\n",
    "            end\n",
    "            # u-p\n",
    "            for (i, I) in pairs(range_u), (j, J) in pairs(range_p)\n",
    "                ke[I, J] += (-divϕᵤ[i] * ϕₚ[j]) * dΩ\n",
    "            end\n",
    "            # p-u\n",
    "            for (i, I) in pairs(range_p), (j, J) in pairs(range_u)\n",
    "                ke[I, J] += (-divϕᵤ[j] * ϕₚ[i]) * dΩ\n",
    "            end\n",
    "            # rhs\n",
    "            for (i, I) in pairs(range_u)\n",
    "                fe[I] += 0.0 # for the moment, we try for f=0\n",
    "            end\n",
    "        end\n",
    "        assemble!(assembler, celldofs(cell), ke, fe)\n",
    "    end\n",
    "    return K, f\n",
    "end"
   ]
  },
  {
   "cell_type": "markdown",
   "id": "209a4d50-a3b7-4d45-b59f-e299ee0a52a0",
   "metadata": {},
   "source": [
    "## Section 1.4 : Definiton of the matrix and the parameters of the problem"
   ]
  },
  {
   "cell_type": "code",
   "execution_count": 4,
   "id": "98c12f36-2be2-4a70-ad66-90546bf775c2",
   "metadata": {
    "scrolled": true
   },
   "outputs": [
    {
     "data": {
      "text/plain": [
       "RHSparams(sparse([1, 2, 3, 4, 5, 6, 7, 8, 9, 10  …  3839, 3845, 3846, 3847, 3848, 3849, 3850, 3851, 3852, 3853], [1, 1, 1, 1, 1, 1, 1, 1, 1, 1  …  3853, 3853, 3853, 3853, 3853, 3853, 3853, 3853, 3853, 3853], [0.6222222222222225, 0.0, -0.033333333333333236, 0.0, -0.02222222222222232, 0.0, -0.033333333333333236, 0.0, -0.20000000000000057, 0.0  …  -5.5294310796760726e-18, -0.013888888888888958, -0.013888888888888949, -0.02777777777777786, 0.01111111111111122, 0.011111111111111177, -0.027777777777777887, 0.022222222222222313, 0.02222222222222231, 0.0], 3853, 3853), [0.0, 0.0, 0.0, 0.0, 0.0, 0.0, 0.0, 0.0, 0.0, 0.0  …  0.0, 0.0, 0.0, 0.0, 0.0, 0.0, 0.0, 0.0, 0.0, 0.0], ConstraintHandler{DofHandler{2, Grid{2, Quadrilateral, Float64}}, Float64}(Dirichlet[Dirichlet(var\"#1#2\"(), OrderedCollections.OrderedSet{FacetIndex}(FacetIndex[FacetIndex((361, 3)), FacetIndex((362, 3)), FacetIndex((363, 3)), FacetIndex((364, 3)), FacetIndex((365, 3)), FacetIndex((366, 3)), FacetIndex((367, 3)), FacetIndex((368, 3)), FacetIndex((369, 3)), FacetIndex((370, 3))  …  FacetIndex((31, 1)), FacetIndex((32, 1)), FacetIndex((33, 1)), FacetIndex((34, 1)), FacetIndex((35, 1)), FacetIndex((36, 1)), FacetIndex((37, 1)), FacetIndex((38, 1)), FacetIndex((39, 1)), FacetIndex((40, 1))]), :u, [1, 2], [1, 2, 3, 4, 9, 10, 3, 4, 5, 6  …  7, 8, 13, 14, 7, 8, 1, 2, 15, 16], [1, 7, 13, 19, 25]), Dirichlet(var\"#3#4\"(), OrderedCollections.OrderedSet{FacetIndex}(FacetIndex[FacetIndex((40, 2)), FacetIndex((80, 2)), FacetIndex((120, 2)), FacetIndex((160, 2)), FacetIndex((200, 2)), FacetIndex((240, 2)), FacetIndex((280, 2)), FacetIndex((320, 2)), FacetIndex((360, 2)), FacetIndex((400, 2))]), :p, [1], [19, 20, 20, 21, 21, 22, 22, 19], [1, 3, 5, 7, 9])], ProjectedDirichlet[], [1, 2, 3, 4, 9, 10, 23, 24, 27, 28  …  3832, 3836, 3837, 3840, 3841, 3845, 3846, 3849, 3850, 3853], [5, 6, 7, 8, 11, 12, 13, 14, 15, 16  …  3835, 3838, 3839, 3842, 3843, 3844, 3847, 3848, 3851, 3852], [0.0, 0.0, 0.0, 0.0, 0.0, 0.0, 0.0, 0.0, 0.0, 0.0  …  0.0, 0.0, 0.0, 0.0, 0.0, 0.0, 0.0, 0.0, 0.0, 0.0], Union{Nothing, Float64}[nothing, nothing, nothing, nothing, nothing, nothing, nothing, nothing, nothing, nothing  …  nothing, nothing, nothing, nothing, nothing, nothing, nothing, nothing, nothing, nothing], Union{Nothing, Vector{Pair{Int64, Float64}}}[nothing, nothing, nothing, nothing, nothing, nothing, nothing, nothing, nothing, nothing  …  nothing, nothing, nothing, nothing, nothing, nothing, nothing, nothing, nothing, nothing], Dict(56 => 18, 3490 => 174, 429 => 123, 3634 => 238, 220 => 64, 308 => 90, 3620 => 231, 3638 => 239, 3751 => 290, 3710 => 271…), Ferrite.BCValues{Float64}[Ferrite.BCValues{Float64}([1.0 0.0 0.5; 0.0 1.0 0.5; 0.0 0.0 0.0; 0.0 0.0 0.0;;; 0.0 0.0 0.0; 1.0 0.0 0.5; 0.0 1.0 0.5; 0.0 0.0 0.0;;; 0.0 0.0 0.0; 0.0 0.0 0.0; 1.0 0.0 0.5; 0.0 1.0 0.5;;; 0.0 1.0 0.5; 0.0 0.0 0.0; 0.0 0.0 0.0; 1.0 0.0 0.5], [3, 3, 3, 3], 1), Ferrite.BCValues{Float64}([1.0 0.0; 0.0 1.0; 0.0 0.0; 0.0 0.0;;; 0.0 0.0; 1.0 0.0; 0.0 1.0; 0.0 0.0;;; 0.0 0.0; 0.0 0.0; 1.0 0.0; 0.0 1.0;;; 0.0 1.0; 0.0 0.0; 0.0 0.0; 1.0 0.0], [2, 2, 2, 2], 2)], DofHandler{2, Grid{2, Quadrilateral, Float64}}(SubDofHandler{DofHandler{2, Grid{2, Quadrilateral, Float64}}}[SubDofHandler{DofHandler{2, Grid{2, Quadrilateral, Float64}}}(DofHandler{2, Grid{2, Quadrilateral, Float64}}(#= circular reference @-3 =#), OrderedCollections.OrderedSet{Int64}([1, 2, 3, 4, 5, 6, 7, 8, 9, 10  …  391, 392, 393, 394, 395, 396, 397, 398, 399, 400]), [:u, :p], Interpolation[VectorizedInterpolation{2, RefQuadrilateral, 2, Lagrange{RefQuadrilateral, 2}}(Lagrange{RefQuadrilateral, 2}()), Lagrange{RefQuadrilateral, 1}()], Int64[], 22)], [:u, :p], [1, 2, 3, 4, 5, 6, 7, 8, 9, 10  …  3849, 3850, 3838, 3839, 3851, 3852, 3479, 3488, 3853, 3844], [1, 23, 45, 67, 89, 111, 133, 155, 177, 199  …  8581, 8603, 8625, 8647, 8669, 8691, 8713, 8735, 8757, 8779], [1, 1, 1, 1, 1, 1, 1, 1, 1, 1  …  1, 1, 1, 1, 1, 1, 1, 1, 1, 1], true, Grid{2, Quadrilateral, Float64}(Quadrilateral[Quadrilateral((1, 2, 43, 42)), Quadrilateral((2, 3, 44, 43)), Quadrilateral((3, 4, 45, 44)), Quadrilateral((4, 5, 46, 45)), Quadrilateral((5, 6, 47, 46)), Quadrilateral((6, 7, 48, 47)), Quadrilateral((7, 8, 49, 48)), Quadrilateral((8, 9, 50, 49)), Quadrilateral((9, 10, 51, 50)), Quadrilateral((10, 11, 52, 51))  …  Quadrilateral((400, 401, 442, 441)), Quadrilateral((401, 402, 443, 442)), Quadrilateral((402, 403, 444, 443)), Quadrilateral((403, 404, 445, 444)), Quadrilateral((404, 405, 446, 445)), Quadrilateral((405, 406, 447, 446)), Quadrilateral((406, 407, 448, 447)), Quadrilateral((407, 408, 449, 448)), Quadrilateral((408, 409, 450, 449)), Quadrilateral((409, 410, 451, 450))], Node{2, Float64}[Node{2, Float64}([0.0, 0.0]), Node{2, Float64}([0.1, 0.0]), Node{2, Float64}([0.2, 0.0]), Node{2, Float64}([0.3, 0.0]), Node{2, Float64}([0.4, 0.0]), Node{2, Float64}([0.5, 0.0]), Node{2, Float64}([0.6, 0.0]), Node{2, Float64}([0.7, 0.0]), Node{2, Float64}([0.8, 0.0]), Node{2, Float64}([0.9, 0.0])  …  Node{2, Float64}([3.1, 1.0]), Node{2, Float64}([3.2, 1.0]), Node{2, Float64}([3.3, 1.0]), Node{2, Float64}([3.4, 1.0]), Node{2, Float64}([3.5, 1.0]), Node{2, Float64}([3.6, 1.0]), Node{2, Float64}([3.7, 1.0]), Node{2, Float64}([3.8, 1.0]), Node{2, Float64}([3.9, 1.0]), Node{2, Float64}([4.0, 1.0])], Dict{String, OrderedCollections.OrderedSet{Int64}}(), Dict{String, OrderedCollections.OrderedSet{Int64}}(), Dict{String, OrderedCollections.OrderedSet{FacetIndex}}(\"left\" => OrderedCollections.OrderedSet{FacetIndex}([FacetIndex((1, 4)), FacetIndex((41, 4)), FacetIndex((81, 4)), FacetIndex((121, 4)), FacetIndex((161, 4)), FacetIndex((201, 4)), FacetIndex((241, 4)), FacetIndex((281, 4)), FacetIndex((321, 4)), FacetIndex((361, 4))]), \"bottom\" => OrderedCollections.OrderedSet{FacetIndex}([FacetIndex((1, 1)), FacetIndex((2, 1)), FacetIndex((3, 1)), FacetIndex((4, 1)), FacetIndex((5, 1)), FacetIndex((6, 1)), FacetIndex((7, 1)), FacetIndex((8, 1)), FacetIndex((9, 1)), FacetIndex((10, 1))  …  FacetIndex((31, 1)), FacetIndex((32, 1)), FacetIndex((33, 1)), FacetIndex((34, 1)), FacetIndex((35, 1)), FacetIndex((36, 1)), FacetIndex((37, 1)), FacetIndex((38, 1)), FacetIndex((39, 1)), FacetIndex((40, 1))]), \"right\" => OrderedCollections.OrderedSet{FacetIndex}([FacetIndex((40, 2)), FacetIndex((80, 2)), FacetIndex((120, 2)), FacetIndex((160, 2)), FacetIndex((200, 2)), FacetIndex((240, 2)), FacetIndex((280, 2)), FacetIndex((320, 2)), FacetIndex((360, 2)), FacetIndex((400, 2))]), \"top\" => OrderedCollections.OrderedSet{FacetIndex}([FacetIndex((361, 3)), FacetIndex((362, 3)), FacetIndex((363, 3)), FacetIndex((364, 3)), FacetIndex((365, 3)), FacetIndex((366, 3)), FacetIndex((367, 3)), FacetIndex((368, 3)), FacetIndex((369, 3)), FacetIndex((370, 3))  …  FacetIndex((391, 3)), FacetIndex((392, 3)), FacetIndex((393, 3)), FacetIndex((394, 3)), FacetIndex((395, 3)), FacetIndex((396, 3)), FacetIndex((397, 3)), FacetIndex((398, 3)), FacetIndex((399, 3)), FacetIndex((400, 3))])), Dict{String, OrderedCollections.OrderedSet{VertexIndex}}()), 3853), true), DofHandler{2, Grid{2, Quadrilateral, Float64}}(SubDofHandler{DofHandler{2, Grid{2, Quadrilateral, Float64}}}[SubDofHandler{DofHandler{2, Grid{2, Quadrilateral, Float64}}}(DofHandler{2, Grid{2, Quadrilateral, Float64}}(#= circular reference @-3 =#), OrderedCollections.OrderedSet{Int64}([1, 2, 3, 4, 5, 6, 7, 8, 9, 10  …  391, 392, 393, 394, 395, 396, 397, 398, 399, 400]), [:u, :p], Interpolation[VectorizedInterpolation{2, RefQuadrilateral, 2, Lagrange{RefQuadrilateral, 2}}(Lagrange{RefQuadrilateral, 2}()), Lagrange{RefQuadrilateral, 1}()], Int64[], 22)], [:u, :p], [1, 2, 3, 4, 5, 6, 7, 8, 9, 10  …  3849, 3850, 3838, 3839, 3851, 3852, 3479, 3488, 3853, 3844], [1, 23, 45, 67, 89, 111, 133, 155, 177, 199  …  8581, 8603, 8625, 8647, 8669, 8691, 8713, 8735, 8757, 8779], [1, 1, 1, 1, 1, 1, 1, 1, 1, 1  …  1, 1, 1, 1, 1, 1, 1, 1, 1, 1], true, Grid{2, Quadrilateral, Float64}(Quadrilateral[Quadrilateral((1, 2, 43, 42)), Quadrilateral((2, 3, 44, 43)), Quadrilateral((3, 4, 45, 44)), Quadrilateral((4, 5, 46, 45)), Quadrilateral((5, 6, 47, 46)), Quadrilateral((6, 7, 48, 47)), Quadrilateral((7, 8, 49, 48)), Quadrilateral((8, 9, 50, 49)), Quadrilateral((9, 10, 51, 50)), Quadrilateral((10, 11, 52, 51))  …  Quadrilateral((400, 401, 442, 441)), Quadrilateral((401, 402, 443, 442)), Quadrilateral((402, 403, 444, 443)), Quadrilateral((403, 404, 445, 444)), Quadrilateral((404, 405, 446, 445)), Quadrilateral((405, 406, 447, 446)), Quadrilateral((406, 407, 448, 447)), Quadrilateral((407, 408, 449, 448)), Quadrilateral((408, 409, 450, 449)), Quadrilateral((409, 410, 451, 450))], Node{2, Float64}[Node{2, Float64}([0.0, 0.0]), Node{2, Float64}([0.1, 0.0]), Node{2, Float64}([0.2, 0.0]), Node{2, Float64}([0.3, 0.0]), Node{2, Float64}([0.4, 0.0]), Node{2, Float64}([0.5, 0.0]), Node{2, Float64}([0.6, 0.0]), Node{2, Float64}([0.7, 0.0]), Node{2, Float64}([0.8, 0.0]), Node{2, Float64}([0.9, 0.0])  …  Node{2, Float64}([3.1, 1.0]), Node{2, Float64}([3.2, 1.0]), Node{2, Float64}([3.3, 1.0]), Node{2, Float64}([3.4, 1.0]), Node{2, Float64}([3.5, 1.0]), Node{2, Float64}([3.6, 1.0]), Node{2, Float64}([3.7, 1.0]), Node{2, Float64}([3.8, 1.0]), Node{2, Float64}([3.9, 1.0]), Node{2, Float64}([4.0, 1.0])], Dict{String, OrderedCollections.OrderedSet{Int64}}(), Dict{String, OrderedCollections.OrderedSet{Int64}}(), Dict{String, OrderedCollections.OrderedSet{FacetIndex}}(\"left\" => OrderedCollections.OrderedSet{FacetIndex}([FacetIndex((1, 4)), FacetIndex((41, 4)), FacetIndex((81, 4)), FacetIndex((121, 4)), FacetIndex((161, 4)), FacetIndex((201, 4)), FacetIndex((241, 4)), FacetIndex((281, 4)), FacetIndex((321, 4)), FacetIndex((361, 4))]), \"bottom\" => OrderedCollections.OrderedSet{FacetIndex}([FacetIndex((1, 1)), FacetIndex((2, 1)), FacetIndex((3, 1)), FacetIndex((4, 1)), FacetIndex((5, 1)), FacetIndex((6, 1)), FacetIndex((7, 1)), FacetIndex((8, 1)), FacetIndex((9, 1)), FacetIndex((10, 1))  …  FacetIndex((31, 1)), FacetIndex((32, 1)), FacetIndex((33, 1)), FacetIndex((34, 1)), FacetIndex((35, 1)), FacetIndex((36, 1)), FacetIndex((37, 1)), FacetIndex((38, 1)), FacetIndex((39, 1)), FacetIndex((40, 1))]), \"right\" => OrderedCollections.OrderedSet{FacetIndex}([FacetIndex((40, 2)), FacetIndex((80, 2)), FacetIndex((120, 2)), FacetIndex((160, 2)), FacetIndex((200, 2)), FacetIndex((240, 2)), FacetIndex((280, 2)), FacetIndex((320, 2)), FacetIndex((360, 2)), FacetIndex((400, 2))]), \"top\" => OrderedCollections.OrderedSet{FacetIndex}([FacetIndex((361, 3)), FacetIndex((362, 3)), FacetIndex((363, 3)), FacetIndex((364, 3)), FacetIndex((365, 3)), FacetIndex((366, 3)), FacetIndex((367, 3)), FacetIndex((368, 3)), FacetIndex((369, 3)), FacetIndex((370, 3))  …  FacetIndex((391, 3)), FacetIndex((392, 3)), FacetIndex((393, 3)), FacetIndex((394, 3)), FacetIndex((395, 3)), FacetIndex((396, 3)), FacetIndex((397, 3)), FacetIndex((398, 3)), FacetIndex((399, 3)), FacetIndex((400, 3))])), Dict{String, OrderedCollections.OrderedSet{VertexIndex}}()), 3853), CellValues{Ferrite.FunctionValues{1, VectorizedInterpolation{2, RefQuadrilateral, 2, Lagrange{RefQuadrilateral, 2}}, Matrix{Vec{2, Float64}}, Matrix{Tensor{2, 2, Float64, 4}}, Matrix{Tensor{2, 2, Float64, 4}}, Nothing, Nothing}, Ferrite.GeometryMapping{1, Lagrange{RefQuadrilateral, 1}, Matrix{Float64}, Matrix{Vec{2, Float64}}, Nothing}, QuadratureRule{RefQuadrilateral, Vector{Float64}, Vector{Vec{2, Float64}}}, Vector{Float64}}(Ferrite.FunctionValues{1, VectorizedInterpolation{2, RefQuadrilateral, 2, Lagrange{RefQuadrilateral, 2}}, Matrix{Vec{2, Float64}}, Matrix{Tensor{2, 2, Float64, 4}}, Matrix{Tensor{2, 2, Float64, 4}}, Nothing, Nothing}(VectorizedInterpolation{2, RefQuadrilateral, 2, Lagrange{RefQuadrilateral, 2}}(Lagrange{RefQuadrilateral, 2}()), Vec{2, Float64}[[0.6421554587869548, 0.0] [0.18253386549012524, 0.0] … [0.006708288309297935, 0.0] [0.003574877848440116, 0.0]; [0.0, 0.6421554587869548] [0.0, 0.18253386549012524] … [0.0, 0.006708288309297935] [0.0, 0.003574877848440116]; … ; [0.06679343183336069, 0.0] [0.22857142857142812, 0.0] … [0.22857142857142837, 0.0] [0.0667934318333608, 0.0]; [0.0, 0.06679343183336069] [0.0, 0.22857142857142812] … [0.0, 0.22857142857142837] [0.0, 0.0667934318333608]], Vec{2, Float64}[[0.6421554587869548, 0.0] [0.18253386549012524, 0.0] … [0.006708288309297935, 0.0] [0.003574877848440116, 0.0]; [0.0, 0.6421554587869548] [0.0, 0.18253386549012524] … [0.0, 0.006708288309297935] [0.0, 0.003574877848440116]; … ; [0.06679343183336069, 0.0] [0.22857142857142812, 0.0] … [0.22857142857142837, 0.0] [0.0667934318333608, 0.0]; [0.0, 0.06679343183336069] [0.0, 0.22857142857142812] … [0.0, 0.22857142857142837] [0.0, 0.0667934318333608]], Tensor{2, 2, Float64, 4}[[-21.814823574542526 -21.814823574542636; 0.0 0.0] [-13.46230948045471 -6.20090356246187; 0.0 0.0] … [0.1913515713054169 -0.810367975199819; 0.0 0.0] [-0.43184883983173444 -0.4318488398317349; 0.0 0.0]; [0.0 0.0; -21.814823574542526 -21.814823574542636] [0.0 0.0; -13.46230948045471 -6.20090356246187] … [0.0 0.0; 0.1913515713054169 -0.810367975199819] [0.0 0.0; -0.43184883983173444 -0.4318488398317349]; … ; [8.902229226221516 8.90222922622156; 0.0 0.0] [3.5146458717550133 30.46400216093515; 0.0 0.0] … [-3.5146458717550457 -30.464002160935113; 0.0 0.0] [-8.902229226221529 -8.902229226221538; 0.0 0.0]; [0.0 0.0; 8.902229226221516 8.90222922622156] [0.0 0.0; 3.5146458717550133 30.46400216093515] … [0.0 0.0; -3.5146458717550457 -30.464002160935113] [0.0 0.0; -8.902229226221529 -8.902229226221538]], Tensor{2, 2, Float64, 4}[[-1.090741178727128 -1.090741178727128; 0.0 0.0] [-0.6731154740227361 -0.31004517812309346; 0.0 0.0] … [0.009567578565270855 -0.04051839875999096; 0.0 0.0] [-0.02159244199158674 -0.02159244199158674; 0.0 0.0]; [0.0 0.0; -1.090741178727128 -1.090741178727128] [0.0 0.0; -0.6731154740227361 -0.31004517812309346] … [0.0 0.0; 0.009567578565270855 -0.04051839875999096] [0.0 0.0; -0.02159244199158674 -0.02159244199158674]; … ; [0.4451114613110765 0.4451114613110765; 0.0 0.0] [0.17573229358775241 1.5232001080467572; 0.0 0.0] … [-0.17573229358775244 -1.5232001080467574; 0.0 0.0] [-0.4451114613110768 -0.4451114613110768; 0.0 0.0]; [0.0 0.0; 0.4451114613110765 0.4451114613110765] [0.0 0.0; 0.17573229358775241 1.5232001080467572] … [0.0 0.0; -0.17573229358775244 -1.5232001080467574] [0.0 0.0; -0.4451114613110768 -0.4451114613110768]], nothing, nothing), Ferrite.GeometryMapping{1, Lagrange{RefQuadrilateral, 1}, Matrix{Float64}, Matrix{Vec{2, Float64}}, Nothing}(Lagrange{RefQuadrilateral, 1}(), [0.8659570925834789 0.6234718442658675 … 0.022913166676412754 0.004820780989426007; 0.0646110632135476 0.30709631153115896 … 0.04651867752656091 0.06461106321354765; 0.004820780989425999 0.022913166676412727 … 0.6234718442658673 0.8659570925834786; 0.0646110632135476 0.04651867752656087 … 0.307096311531159 0.06461106321354765], Vec{2, Float64}[[-0.4652840778985132, -0.4652840778985132] [-0.4652840778985132, -0.3349952608962142] … [-0.03471592210148683, -0.16500473910378588] [-0.03471592210148683, -0.03471592210148683]; [0.4652840778985132, -0.0347159221014868] [0.4652840778985132, -0.16500473910378582] … [0.03471592210148683, -0.3349952608962141] [0.03471592210148683, -0.46528407789851317]; [0.0347159221014868, 0.0347159221014868] [0.0347159221014868, 0.16500473910378582] … [0.46528407789851317, 0.3349952608962141] [0.46528407789851317, 0.46528407789851317]; [-0.0347159221014868, 0.4652840778985132] [-0.0347159221014868, 0.3349952608962142] … [-0.46528407789851317, 0.16500473910378588] [-0.46528407789851317, 0.03471592210148683]], nothing), QuadratureRule{RefQuadrilateral, Vector{Float64}, Vector{Vec{2, Float64}}}([0.12100299328560181, 0.22685185185185153, 0.22685185185185208, 0.12100299328560216, 0.22685185185185153, 0.4252933030106938, 0.4252933030106948, 0.2268518518518522, 0.22685185185185208, 0.4252933030106948, 0.42529330301069584, 0.22685185185185272, 0.12100299328560216, 0.2268518518518522, 0.22685185185185272, 0.1210029932856025], Vec{2, Float64}[[-0.8611363115940528, -0.8611363115940528], [-0.33998104358485665, -0.8611363115940528], [0.3399810435848564, -0.8611363115940528], [0.8611363115940527, -0.8611363115940528], [-0.8611363115940528, -0.33998104358485665], [-0.33998104358485665, -0.33998104358485665], [0.3399810435848564, -0.33998104358485665], [0.8611363115940527, -0.33998104358485665], [-0.8611363115940528, 0.3399810435848564], [-0.33998104358485665, 0.3399810435848564], [0.3399810435848564, 0.3399810435848564], [0.8611363115940527, 0.3399810435848564], [-0.8611363115940528, 0.8611363115940527], [-0.33998104358485665, 0.8611363115940527], [0.3399810435848564, 0.8611363115940527], [0.8611363115940527, 0.8611363115940527]]), [0.00030250748321400487, 0.0005671296296296289, 0.0005671296296296309, 0.00030250748321400547, 0.0005671296296296286, 0.0010632332575267328, 0.0010632332575267365, 0.0005671296296296296, 0.0005671296296296312, 0.0010632332575267378, 0.0010632332575267415, 0.0005671296296296322, 0.0003025074832140059, 0.0005671296296296309, 0.0005671296296296328, 0.0003025074832140065]), FacetValues{Ferrite.FunctionValues{1, VectorizedInterpolation{2, RefQuadrilateral, 2, Lagrange{RefQuadrilateral, 2}}, Matrix{Vec{2, Float64}}, Matrix{Tensor{2, 2, Float64, 4}}, Matrix{Tensor{2, 2, Float64, 4}}, Nothing, Nothing}, Ferrite.GeometryMapping{1, Lagrange{RefQuadrilateral, 1}, Matrix{Float64}, Matrix{Vec{2, Float64}}, Nothing}, FacetQuadratureRule{RefQuadrilateral, Vector{QuadratureRule{RefQuadrilateral, Vector{Float64}, Vector{Vec{2, Float64}}}}}, Vector{Float64}, Vector{Vec{2, Float64}}, Vector{Ferrite.FunctionValues{1, VectorizedInterpolation{2, RefQuadrilateral, 2, Lagrange{RefQuadrilateral, 2}}, Matrix{Vec{2, Float64}}, Matrix{Tensor{2, 2, Float64, 4}}, Matrix{Tensor{2, 2, Float64, 4}}, Nothing, Nothing}}, Vector{Ferrite.GeometryMapping{1, Lagrange{RefQuadrilateral, 1}, Matrix{Float64}, Matrix{Vec{2, Float64}}, Nothing}}}(Ferrite.FunctionValues{1, VectorizedInterpolation{2, RefQuadrilateral, 2, Lagrange{RefQuadrilateral, 2}}, Matrix{Vec{2, Float64}}, Matrix{Tensor{2, 2, Float64, 4}}, Matrix{Tensor{2, 2, Float64, 4}}, Nothing, Nothing}[Ferrite.FunctionValues{1, VectorizedInterpolation{2, RefQuadrilateral, 2, Lagrange{RefQuadrilateral, 2}}, Matrix{Vec{2, Float64}}, Matrix{Tensor{2, 2, Float64, 4}}, Matrix{Tensor{2, 2, Float64, 4}}, Nothing, Nothing}(VectorizedInterpolation{2, RefQuadrilateral, 2, Lagrange{RefQuadrilateral, 2}}(Lagrange{RefQuadrilateral, 2}()), Vec{2, Float64}[[0.8013460293699313, 0.0] [0.22778407679095242, 0.0] [-0.11219696679390419, 0.0] [-0.05979028222412164, 0.0]; [0.0, 0.8013460293699313] [0.0, 0.22778407679095242] [0.0, -0.11219696679390419] [0.0, -0.05979028222412164]; … ; [0.0, 0.0] [0.0, 0.0] [0.0, 0.0] [0.0, 0.0]; [0.0, 0.0] [0.0, 0.0] [0.0, 0.0] [0.0, 0.0]], Vec{2, Float64}[[0.8013460293699313, 0.0] [0.22778407679095242, 0.0] [-0.11219696679390419, 0.0] [-0.05979028222412164, 0.0]; [0.0, 0.8013460293699313] [0.0, 0.22778407679095242] [0.0, -0.11219696679390419] [0.0, -0.05979028222412164]; … ; [0.0, 0.0] [0.0, 0.0] [0.0, 0.0] [0.0, 0.0]; [0.0, 0.0] [0.0, 0.0] [0.0, 0.0] [0.0, 0.0]], Tensor{2, 2, Float64, 4}[[NaN NaN; NaN NaN] [NaN NaN; NaN NaN] [NaN NaN; NaN NaN] [NaN NaN; NaN NaN]; [NaN NaN; NaN NaN] [NaN NaN; NaN NaN] [NaN NaN; NaN NaN] [NaN NaN; NaN NaN]; … ; [NaN NaN; NaN NaN] [NaN NaN; NaN NaN] [NaN NaN; NaN NaN] [NaN NaN; NaN NaN]; [NaN NaN; NaN NaN] [NaN NaN; NaN NaN] [NaN NaN; NaN NaN] [NaN NaN; NaN NaN]], Tensor{2, 2, Float64, 4}[[-1.361136311594053 -1.202019044054897; 0.0 0.0] [-0.8399810435848567 -0.3416761151864286; 0.0 0.0] [-0.16001895641514358 0.1682954501908563; 0.0 0.0] [0.3611363115940527 0.08968542333618246; 0.0 0.0]; [0.0 0.0; -1.361136311594053 -1.202019044054897] [0.0 0.0; -0.8399810435848567 -0.3416761151864286] [0.0 0.0; -0.16001895641514358 0.1682954501908563] [0.0 0.0; 0.3611363115940527 0.08968542333618246]; … ; [0.0 0.5168885057083807; 0.0 0.0] [0.0 1.7688257800059035; 0.0 0.0] [0.0 1.768825780005904; 0.0 0.0] [0.0 0.5168885057083812; 0.0 0.0]; [0.0 0.0; 0.0 0.5168885057083807] [0.0 0.0; 0.0 1.7688257800059035] [0.0 0.0; 0.0 1.768825780005904] [0.0 0.0; 0.0 0.5168885057083812]], nothing, nothing), Ferrite.FunctionValues{1, VectorizedInterpolation{2, RefQuadrilateral, 2, Lagrange{RefQuadrilateral, 2}}, Matrix{Vec{2, Float64}}, Matrix{Tensor{2, 2, Float64, 4}}, Matrix{Tensor{2, 2, Float64, 4}}, Nothing, Nothing}(VectorizedInterpolation{2, RefQuadrilateral, 2, Lagrange{RefQuadrilateral, 2}}(Lagrange{RefQuadrilateral, 2}()), Vec{2, Float64}[[0.0, 0.0] [0.0, 0.0] [-0.0, 0.0] [-0.0, 0.0]; [0.0, 0.0] [0.0, 0.0] [0.0, -0.0] [0.0, -0.0]; … ; [0.0, 0.0] [0.0, 0.0] [0.0, 0.0] [0.0, 0.0]; [0.0, 0.0] [0.0, 0.0] [0.0, 0.0] [0.0, 0.0]], Vec{2, Float64}[[0.0, 0.0] [0.0, 0.0] [-0.0, 0.0] [-0.0, 0.0]; [0.0, 0.0] [0.0, 0.0] [0.0, -0.0] [0.0, -0.0]; … ; [0.0, 0.0] [0.0, 0.0] [0.0, 0.0] [0.0, 0.0]; [0.0, 0.0] [0.0, 0.0] [0.0, 0.0] [0.0, 0.0]], Tensor{2, 2, Float64, 4}[[NaN NaN; NaN NaN] [NaN NaN; NaN NaN] [NaN NaN; NaN NaN] [NaN NaN; NaN NaN]; [NaN NaN; NaN NaN] [NaN NaN; NaN NaN] [NaN NaN; NaN NaN] [NaN NaN; NaN NaN]; … ; [NaN NaN; NaN NaN] [NaN NaN; NaN NaN] [NaN NaN; NaN NaN] [NaN NaN; NaN NaN]; [NaN NaN; NaN NaN] [NaN NaN; NaN NaN] [NaN NaN; NaN NaN] [NaN NaN; NaN NaN]], Tensor{2, 2, Float64, 4}[[0.40067301468496563 0.0; 0.0 0.0] [0.11389203839547621 0.0; 0.0 0.0] [-0.056098483396952094 -0.0; 0.0 0.0] [-0.02989514111206082 0.0; 0.0 0.0]; [0.0 0.0; 0.40067301468496563 0.0] [0.0 0.0; 0.11389203839547621 0.0] [0.0 0.0; -0.056098483396952094 -0.0] [0.0 0.0; -0.02989514111206082 0.0]; … ; [-0.5168885057083807 0.0; 0.0 0.0] [-1.7688257800059035 0.0; 0.0 0.0] [-1.768825780005904 -0.0; 0.0 0.0] [-0.5168885057083812 -0.0; 0.0 0.0]; [0.0 0.0; -0.5168885057083807 0.0] [0.0 0.0; -1.7688257800059035 0.0] [0.0 0.0; -1.768825780005904 -0.0] [0.0 0.0; -0.5168885057083812 -0.0]], nothing, nothing), Ferrite.FunctionValues{1, VectorizedInterpolation{2, RefQuadrilateral, 2, Lagrange{RefQuadrilateral, 2}}, Matrix{Vec{2, Float64}}, Matrix{Tensor{2, 2, Float64, 4}}, Matrix{Tensor{2, 2, Float64, 4}}, Nothing, Nothing}(VectorizedInterpolation{2, RefQuadrilateral, 2, Lagrange{RefQuadrilateral, 2}}(Lagrange{RefQuadrilateral, 2}()), Vec{2, Float64}[[-0.0, 0.0] [-0.0, 0.0] [0.0, 0.0] [0.0, 0.0]; [0.0, -0.0] [0.0, -0.0] [0.0, 0.0] [0.0, 0.0]; … ; [0.0, 0.0] [0.0, 0.0] [0.0, 0.0] [0.0, 0.0]; [0.0, 0.0] [0.0, 0.0] [0.0, 0.0] [0.0, 0.0]], Vec{2, Float64}[[-0.0, 0.0] [-0.0, 0.0] [0.0, 0.0] [0.0, 0.0]; [0.0, -0.0] [0.0, -0.0] [0.0, 0.0] [0.0, 0.0]; … ; [0.0, 0.0] [0.0, 0.0] [0.0, 0.0] [0.0, 0.0]; [0.0, 0.0] [0.0, 0.0] [0.0, 0.0] [0.0, 0.0]], Tensor{2, 2, Float64, 4}[[NaN NaN; NaN NaN] [NaN NaN; NaN NaN] [NaN NaN; NaN NaN] [NaN NaN; NaN NaN]; [NaN NaN; NaN NaN] [NaN NaN; NaN NaN] [NaN NaN; NaN NaN] [NaN NaN; NaN NaN]; … ; [NaN NaN; NaN NaN] [NaN NaN; NaN NaN] [NaN NaN; NaN NaN] [NaN NaN; NaN NaN]; [NaN NaN; NaN NaN] [NaN NaN; NaN NaN] [NaN NaN; NaN NaN] [NaN NaN; NaN NaN]], Tensor{2, 2, Float64, 4}[[0.0 -0.02989514111206079; 0.0 0.0] [-0.0 -0.056098483396952115; 0.0 0.0] [0.0 0.11389203839547613; 0.0 0.0] [0.0 0.4006730146849655; 0.0 0.0]; [0.0 0.0; 0.0 -0.02989514111206079] [0.0 0.0; -0.0 -0.056098483396952115] [0.0 0.0; 0.0 0.11389203839547613] [0.0 0.0; 0.0 0.4006730146849655]; … ; [-0.0 -0.5168885057083807; 0.0 0.0] [-0.0 -1.7688257800059035; 0.0 0.0] [0.0 -1.768825780005904; 0.0 0.0] [0.0 -0.5168885057083812; 0.0 0.0]; [0.0 0.0; -0.0 -0.5168885057083807] [0.0 0.0; -0.0 -1.7688257800059035] [0.0 0.0; 0.0 -1.768825780005904] [0.0 0.0; 0.0 -0.5168885057083812]], nothing, nothing), Ferrite.FunctionValues{1, VectorizedInterpolation{2, RefQuadrilateral, 2, Lagrange{RefQuadrilateral, 2}}, Matrix{Vec{2, Float64}}, Matrix{Tensor{2, 2, Float64, 4}}, Matrix{Tensor{2, 2, Float64, 4}}, Nothing, Nothing}(VectorizedInterpolation{2, RefQuadrilateral, 2, Lagrange{RefQuadrilateral, 2}}(Lagrange{RefQuadrilateral, 2}()), Vec{2, Float64}[[-0.05979028222412158, 0.0] [-0.11219696679390423, 0.0] [0.22778407679095225, 0.0] [0.801346029369931, 0.0]; [0.0, -0.05979028222412158] [0.0, -0.11219696679390423] [0.0, 0.22778407679095225] [0.0, 0.801346029369931]; … ; [0.0, 0.0] [0.0, 0.0] [0.0, 0.0] [0.0, 0.0]; [0.0, 0.0] [0.0, 0.0] [0.0, 0.0] [0.0, 0.0]], Vec{2, Float64}[[-0.05979028222412158, 0.0] [-0.11219696679390423, 0.0] [0.22778407679095225, 0.0] [0.801346029369931, 0.0]; [0.0, -0.05979028222412158] [0.0, -0.11219696679390423] [0.0, 0.22778407679095225] [0.0, 0.801346029369931]; … ; [0.0, 0.0] [0.0, 0.0] [0.0, 0.0] [0.0, 0.0]; [0.0, 0.0] [0.0, 0.0] [0.0, 0.0] [0.0, 0.0]], Tensor{2, 2, Float64, 4}[[NaN NaN; NaN NaN] [NaN NaN; NaN NaN] [NaN NaN; NaN NaN] [NaN NaN; NaN NaN]; [NaN NaN; NaN NaN] [NaN NaN; NaN NaN] [NaN NaN; NaN NaN] [NaN NaN; NaN NaN]; … ; [NaN NaN; NaN NaN] [NaN NaN; NaN NaN] [NaN NaN; NaN NaN] [NaN NaN; NaN NaN]; [NaN NaN; NaN NaN] [NaN NaN; NaN NaN] [NaN NaN; NaN NaN] [NaN NaN; NaN NaN]], Tensor{2, 2, Float64, 4}[[0.08968542333618237 0.3611363115940528; 0.0 0.0] [0.16829545019085634 -0.16001895641514335; 0.0 0.0] [-0.3416761151864284 -0.8399810435848565; 0.0 0.0] [-1.2020190440548966 -1.3611363115940527; 0.0 0.0]; [0.0 0.0; 0.08968542333618237 0.3611363115940528] [0.0 0.0; 0.16829545019085634 -0.16001895641514335] [0.0 0.0; -0.3416761151864284 -0.8399810435848565] [0.0 0.0; -1.2020190440548966 -1.3611363115940527]; … ; [0.5168885057083807 0.0; 0.0 0.0] [1.7688257800059035 0.0; 0.0 0.0] [1.768825780005904 0.0; 0.0 0.0] [0.5168885057083812 0.0; 0.0 0.0]; [0.0 0.0; 0.5168885057083807 0.0] [0.0 0.0; 1.7688257800059035 0.0] [0.0 0.0; 1.768825780005904 0.0] [0.0 0.0; 0.5168885057083812 0.0]], nothing, nothing)], Ferrite.GeometryMapping{1, Lagrange{RefQuadrilateral, 1}, Matrix{Float64}, Matrix{Vec{2, Float64}}, Nothing}[Ferrite.GeometryMapping{1, Lagrange{RefQuadrilateral, 1}, Matrix{Float64}, Matrix{Vec{2, Float64}}, Nothing}(Lagrange{RefQuadrilateral, 1}(), [0.9305681557970265 0.6699905217924284 0.33000947820757176 0.06943184420297366; 0.0694318442029736 0.33000947820757165 0.6699905217924282 0.9305681557970263; 0.0 0.0 0.0 0.0; 0.0 0.0 0.0 0.0], Vec{2, Float64}[[-0.5, -0.4652840778985132] [-0.5, -0.3349952608962142] [-0.5, -0.16500473910378588] [-0.5, -0.03471592210148683]; [0.5, -0.0347159221014868] [0.5, -0.16500473910378582] [0.5, -0.3349952608962141] [0.5, -0.46528407789851317]; [0.0, 0.0347159221014868] [0.0, 0.16500473910378582] [0.0, 0.3349952608962141] [0.0, 0.46528407789851317]; [0.0, 0.4652840778985132] [0.0, 0.3349952608962142] [0.0, 0.16500473910378588] [0.0, 0.03471592210148683]], nothing), Ferrite.GeometryMapping{1, Lagrange{RefQuadrilateral, 1}, Matrix{Float64}, Matrix{Vec{2, Float64}}, Nothing}(Lagrange{RefQuadrilateral, 1}(), [0.0 0.0 0.0 0.0; 0.9305681557970265 0.6699905217924284 0.33000947820757176 0.06943184420297366; 0.0694318442029736 0.33000947820757165 0.6699905217924282 0.9305681557970263; 0.0 0.0 0.0 0.0], Vec{2, Float64}[[-0.4652840778985132, -0.0] [-0.3349952608962142, -0.0] [-0.16500473910378588, -0.0] [-0.03471592210148683, -0.0]; [0.4652840778985132, -0.5] [0.3349952608962142, -0.5] [0.16500473910378588, -0.5] [0.03471592210148683, -0.5]; [0.0347159221014868, 0.5] [0.16500473910378582, 0.5] [0.3349952608962141, 0.5] [0.46528407789851317, 0.5]; [-0.0347159221014868, 0.0] [-0.16500473910378582, 0.0] [-0.3349952608962141, 0.0] [-0.46528407789851317, 0.0]], nothing), Ferrite.GeometryMapping{1, Lagrange{RefQuadrilateral, 1}, Matrix{Float64}, Matrix{Vec{2, Float64}}, Nothing}(Lagrange{RefQuadrilateral, 1}(), [0.0 0.0 0.0 0.0; 0.0 0.0 0.0 0.0; 0.9305681557970265 0.6699905217924284 0.33000947820757176 0.06943184420297366; 0.0694318442029736 0.33000947820757165 0.6699905217924282 0.9305681557970263], Vec{2, Float64}[[-0.0, -0.0347159221014868] [-0.0, -0.16500473910378582] [-0.0, -0.3349952608962141] [-0.0, -0.46528407789851317]; [0.0, -0.4652840778985132] [0.0, -0.3349952608962142] [0.0, -0.16500473910378588] [0.0, -0.03471592210148683]; [0.5, 0.4652840778985132] [0.5, 0.3349952608962142] [0.5, 0.16500473910378588] [0.5, 0.03471592210148683]; [-0.5, 0.0347159221014868] [-0.5, 0.16500473910378582] [-0.5, 0.3349952608962141] [-0.5, 0.46528407789851317]], nothing), Ferrite.GeometryMapping{1, Lagrange{RefQuadrilateral, 1}, Matrix{Float64}, Matrix{Vec{2, Float64}}, Nothing}(Lagrange{RefQuadrilateral, 1}(), [0.0694318442029736 0.33000947820757165 0.6699905217924282 0.9305681557970263; 0.0 0.0 0.0 0.0; 0.0 0.0 0.0 0.0; 0.9305681557970265 0.6699905217924284 0.33000947820757176 0.06943184420297366], Vec{2, Float64}[[-0.0347159221014868, -0.5] [-0.16500473910378582, -0.5] [-0.3349952608962141, -0.5] [-0.46528407789851317, -0.5]; [0.0347159221014868, 0.0] [0.16500473910378582, 0.0] [0.3349952608962141, 0.0] [0.46528407789851317, 0.0]; [0.4652840778985132, 0.0] [0.3349952608962142, 0.0] [0.16500473910378588, 0.0] [0.03471592210148683, 0.0]; [-0.4652840778985132, 0.5] [-0.3349952608962142, 0.5] [-0.16500473910378588, 0.5] [-0.03471592210148683, 0.5]], nothing)], FacetQuadratureRule{RefQuadrilateral, Vector{QuadratureRule{RefQuadrilateral, Vector{Float64}, Vector{Vec{2, Float64}}}}}(QuadratureRule{RefQuadrilateral, Vector{Float64}, Vector{Vec{2, Float64}}}[QuadratureRule{RefQuadrilateral, Vector{Float64}, Vector{Vec{2, Float64}}}([0.34785484513745357, 0.6521451548625458, 0.6521451548625473, 0.34785484513745457], Vec{2, Float64}[[-0.8611363115940528, -1.0], [-0.33998104358485665, -1.0], [0.3399810435848564, -1.0], [0.8611363115940527, -1.0]]), QuadratureRule{RefQuadrilateral, Vector{Float64}, Vector{Vec{2, Float64}}}([0.34785484513745357, 0.6521451548625458, 0.6521451548625473, 0.34785484513745457], Vec{2, Float64}[[1.0, -0.8611363115940528], [1.0, -0.33998104358485665], [1.0, 0.3399810435848564], [1.0, 0.8611363115940527]]), QuadratureRule{RefQuadrilateral, Vector{Float64}, Vector{Vec{2, Float64}}}([0.34785484513745357, 0.6521451548625458, 0.6521451548625473, 0.34785484513745457], Vec{2, Float64}[[0.8611363115940528, 1.0], [0.33998104358485665, 1.0], [-0.3399810435848564, 1.0], [-0.8611363115940527, 1.0]]), QuadratureRule{RefQuadrilateral, Vector{Float64}, Vector{Vec{2, Float64}}}([0.34785484513745357, 0.6521451548625458, 0.6521451548625473, 0.34785484513745457], Vec{2, Float64}[[-1.0, 0.8611363115940528], [-1.0, 0.33998104358485665], [-1.0, -0.3399810435848564], [-1.0, -0.8611363115940527]])]), [NaN, NaN, NaN, NaN], Vec{2, Float64}[[NaN, NaN], [NaN, NaN], [NaN, NaN], [NaN, NaN]], 1), OrderedCollections.OrderedSet{FacetIndex}(FacetIndex[FacetIndex((1, 4)), FacetIndex((41, 4)), FacetIndex((81, 4)), FacetIndex((121, 4)), FacetIndex((161, 4)), FacetIndex((201, 4)), FacetIndex((241, 4)), FacetIndex((281, 4)), FacetIndex((321, 4)), FacetIndex((361, 4))]), [0.0, 0.0, 0.0, 0.0, 1.0, 1.0, 1.0, 1.0, 0.0, 0.0  …  1.0, 0.0, 0.0, 1.0, 1.0, 0.0, 0.0, 1.0, 1.0, 0.0])"
      ]
     },
     "execution_count": 4,
     "metadata": {},
     "output_type": "execute_result"
    }
   ],
   "source": [
    "# dynamic viscosity \n",
    "μ = 1\n",
    "# definition of the matrix\n",
    "coupling = [true true; true false] # no coupling between pressure test/trial functions\n",
    "K = allocate_matrix(dh, ch; coupling = coupling)\n",
    "f = zeros(ndofs(dh))\n",
    "K , f = assemble_stifness_matrix!(K, f, dh, cvu, cvp, μ); # assemble the system\n",
    "\n",
    "jac_sparsity = sparse(K);\n",
    "# RHS structure definition \n",
    "struct RHSparams\n",
    "    K::SparseMatrixCSC\n",
    "    f::Vector\n",
    "    ch::ConstraintHandler\n",
    "    dh::DofHandler\n",
    "    cvu::CellValues\n",
    "    fvu::FacetValues \n",
    "    boundary\n",
    "    u::Vector\n",
    "end \n",
    "u0 = zeros(ndofs(dh))\n",
    "u0 .=1\n",
    "apply!(u0, ch);\n",
    "p = RHSparams(K, f, ch, dh, cvu, fvu, left_boundary, copy(u0))\n",
    "\n"
   ]
  },
  {
   "cell_type": "markdown",
   "id": "2452a130-7016-4fe7-8b3a-5f13dae42d45",
   "metadata": {},
   "source": [
    "## Section 1.5 : Definition and assembly of the residual and implementation of the non-linear BC"
   ]
  },
  {
   "cell_type": "code",
   "execution_count": 5,
   "id": "89ea2c06-39c8-48e3-b348-04e75ad0f96b",
   "metadata": {},
   "outputs": [],
   "source": [
    "# Now, handle the nonlinear BC \n",
    "## Parabole velocity at the inlet (left boundary)\n",
    "function parabole_velocity(x)\n",
    "    y = x[2]\n",
    "    ξ = (2y - 1.0)/1.0\n",
    "    Vmax = 15\n",
    "    vx = Vmax * (1 - ξ^2)\n",
    "    vx = vx^2\n",
    "    return vx \n",
    "end\n",
    "res_value(u_val, x) = (u_val[1]^2- parabole_velocity(x)) # à modifier \n",
    "dures_value(u_val,x) = 2.0 * u_val[1]\n",
    "α = 1000000.0 # defining the penalty\n",
    "\n",
    "# Assembly of the non linear contribution in the residual\n",
    "function assemble_nonlinear_residual!(Re::Vector, u_e::Vector, fvu::FacetValues, cvu::CellValues, facet)\n",
    "    n_basefuncs_facet_u = getnbasefunctions(fvu)\n",
    "    ndofs_u = 2  # nombre de composantes de vitesse en 2D\n",
    "    # Element residual for the non linear CL\n",
    "    # Loop over the quadrature points of the facet\n",
    "    for q_point in 1:getnquadpoints(fvu)\n",
    "        x = spatial_coordinate(fvu, q_point,getcoordinates(facet))\n",
    "        dΓ = getdetJdV(fvu, q_point) # getting the weight \n",
    "        u_q_point = function_value(fvu, q_point, u_e)\n",
    "        res_q_point = res_value(u_q_point, x) # residual compared to the target value \n",
    "        # Loop over the shape functions of the facet \n",
    "        for i in 1:n_basefuncs_facet_u\n",
    "            if i%2 ==1 #test to modify only the horizontal velocity component\n",
    "                ϕ_vec = shape_value(fvu, q_point, i)  # VectorValue(ϕx, ϕy)\n",
    "                ϕx = ϕ_vec[1]\n",
    "                Re[i] -= α * res_q_point * ϕx * dΓ # contribution to the non linear residual\n",
    "            end\n",
    "        end\n",
    "    end \n",
    "    return\n",
    "end \n",
    "\n",
    "function stokes_residual!(R, u_current, p::RHSparams)\n",
    "    @unpack K, f, ch, dh, cvu, fvu, boundary, u = p  \n",
    "    u .= u_current\n",
    "    #update!(ch, t)\n",
    "    apply!(u, ch)\n",
    "    ## residual, linear contribution\n",
    "    R .= f\n",
    "    mul!(R, K, u, -1.0, 1.0)\n",
    "    ## residual, non linear contribution \n",
    "    u_range = dof_range(dh, :u)\n",
    "    ndofs_u = 2\n",
    "    n_basefuncs_facet_u = getnbasefunctions(fvu)\n",
    "    Re = zeros(n_basefuncs_facet_u)\n",
    "    u_e = zeros(n_basefuncs_facet_u)\n",
    "    for facet in FacetIterator(dh, boundary)\n",
    "        Ferrite.reinit!(fvu, facet)\n",
    "        u_boundary_facetdofs = @view celldofs(facet)[u_range]\n",
    "        u_e .= @views u[u_boundary_facetdofs]\n",
    "        #println(\"un tour de res\")\n",
    "        #println(\"u_boundary_facetdofs length: \", length(u_boundary_facetdofs))\n",
    "        #println(\"u_e length: \", length(u_e))\n",
    "        fill!(Re, 0.0)\n",
    "        assemble_nonlinear_residual!(Re, u_e, fvu, cvu, facet)\n",
    "        assemble!(R, u_boundary_facetdofs, Re)\n",
    "        #@show u_boundary_facetdofs\n",
    "    end \n",
    "    #R[1] = 0 \n",
    "    #@show R\n",
    "    #@show u \n",
    "    \n",
    "    return \n",
    "end;"
   ]
  },
  {
   "cell_type": "markdown",
   "id": "87aa7b5e-f5c2-4f16-a8fc-d5f52e30017e",
   "metadata": {},
   "source": [
    "## Section 1.6 : Definition and assembly of the Jacobian matrix "
   ]
  },
  {
   "cell_type": "code",
   "execution_count": 6,
   "id": "def2119e-3b14-4f67-9851-5dc556149a68",
   "metadata": {},
   "outputs": [],
   "source": [
    "\n",
    "function assemble_nonlinear_jac!(Je, u_e::Vector, fvu::FacetValues, cvu::CellValues, facet)\n",
    "    n_basefuncs_facet = getnbasefunctions(fvu)\n",
    "    for q_point in 1:getnquadpoints(fvu)\n",
    "        dΓ = getdetJdV(fvu, q_point) # getting the weight \n",
    "        u_q_point = function_value(fvu, q_point, u_e)\n",
    "        # compute the value that we will be using in the non linear jacobian \n",
    "        x = spatial_coordinate(fvu, q_point, getcoordinates(facet))\n",
    "        du_res_q_point = dures_value(u_q_point,x)  \n",
    "        # Loop over the test functions of the facet \n",
    "        for i in 1:n_basefuncs_facet\n",
    "            if i%2 == 1\n",
    "                ϕ_i = shape_value(fvu, q_point, i)\n",
    "                ϕ_i_x = ϕ_i[1]\n",
    "                for j in 1:n_basefuncs_facet # Loop over the trial functions of the facet\n",
    "                    if j%2==1\n",
    "                        ϕ_j = shape_value(fvu, q_point, j)\n",
    "                        ϕ_j_x = ϕ_j[1]\n",
    "                        Je[i,j] -= α * du_res_q_point * ϕ_i_x * ϕ_j_x * dΓ # contribution to the non linear jacobian\n",
    "                    end\n",
    "                end\n",
    "            end\n",
    "        end\n",
    "    end \n",
    "    return\n",
    "end \n",
    "\n",
    "function stokes_jac!(J, u_current, p::RHSparams)\n",
    "    @unpack  K, f, ch, dh, cvu, fvu, boundary, u = p  # getting the parameters values \n",
    "    u .= u_current\n",
    "    #update!(ch, t)\n",
    "    apply!(u, ch)\n",
    "    # Linear contribution\n",
    "    nonzeros(J) .= - nonzeros(K)\n",
    "    assembler = start_assemble(J; fillzero = false)\n",
    "    # non linear\n",
    "    u_range = dof_range(dh, :u)\n",
    "    ndofs_u = 2\n",
    "    n_basefuncs_facet_u = getnbasefunctions(fvu)\n",
    "    Je = zeros(n_basefuncs_facet_u,n_basefuncs_facet_u)\n",
    "    u_e = zeros(n_basefuncs_facet_u)\n",
    "    # Non linear contribution\n",
    "    for facet in FacetIterator(dh, boundary)\n",
    "        Ferrite.reinit!(fvu, facet)\n",
    "        u_boundary_facetdofs = @view celldofs(facet)[u_range]\n",
    "        u_e .= @views u[u_boundary_facetdofs]\n",
    "        fill!(Je,0.0)\n",
    "        assemble_nonlinear_jac!(Je, u_e, fvu, cvu, facet)\n",
    "        assemble!(assembler, u_boundary_facetdofs, Je)\n",
    "        #println(\"un tour de jac\")\n",
    "    end\n",
    "    #@show J-K\n",
    "    return apply!(J,ch)\n",
    "end;\n",
    "\n"
   ]
  },
  {
   "cell_type": "markdown",
   "id": "31f33f82-aabd-4783-b8ee-e8e185b55ea2",
   "metadata": {},
   "source": [
    "## Section 1.7 : Solving using DifferentialEquations.jl"
   ]
  },
  {
   "cell_type": "code",
   "execution_count": 7,
   "id": "f1a8fbea-6027-4030-b971-dc0d894fc80b",
   "metadata": {},
   "outputs": [
    {
     "name": "stdout",
     "output_type": "stream",
     "text": [
      "C'est fini\n"
     ]
    }
   ],
   "source": [
    "f = NonlinearFunction(stokes_residual!; jac = stokes_jac!, jac_prototype = jac_sparsity)\n",
    "prob = NonlinearProblem(f, u0, p);\n",
    "sol  = NonlinearSolve.solve(prob, NewtonRaphson(); abstol=1e-10, reltol=1e-8, maxiters=50)\n",
    "\n",
    "#prob = NonlinearProblem(stokes_residual!, u0, p, stokes_jac!)\n",
    "#sol = NonlinearSolve.solve(prob, NewtonRaphson(); abstol=1e-10, reltol=1e-8, maxiters=50)\n",
    "\n",
    "\n",
    "println(\"C'est fini\")"
   ]
  },
  {
   "cell_type": "markdown",
   "id": "8b162ae0-97bf-4915-b912-3a0e53528316",
   "metadata": {},
   "source": [
    "## Section 1.8 : Export the solution"
   ]
  },
  {
   "cell_type": "code",
   "execution_count": 8,
   "id": "2f0e066e-7d78-45e6-8145-d949d1469881",
   "metadata": {},
   "outputs": [
    {
     "data": {
      "text/plain": [
       "VTKGridFile for the closed file \"stokes-flow-2D-open-channel.vtu\"."
      ]
     },
     "execution_count": 8,
     "metadata": {},
     "output_type": "execute_result"
    }
   ],
   "source": [
    "VTKGridFile(\"stokes-flow-2D-open-channel\", grid) do vtk\n",
    "    write_solution(vtk, dh, sol.u)\n",
    "end"
   ]
  },
  {
   "cell_type": "code",
   "execution_count": 10,
   "id": "8cc97c6b-e45d-49a6-8467-3019edda33a9",
   "metadata": {},
   "outputs": [
    {
     "name": "stdout",
     "output_type": "stream",
     "text": [
      "simulation's over\n"
     ]
    }
   ],
   "source": [
    "println(\"simulation's over\")"
   ]
  },
  {
   "cell_type": "markdown",
   "id": "10c62e12-19e7-4cfe-a7ea-d5397052f876",
   "metadata": {},
   "source": [
    "## Section 1.9 : Results"
   ]
  },
  {
   "attachments": {
    "5959e233-f31c-4bc5-bb4d-a655f307823d.png": {
     "image/png": "[encoded data removed]"
    },
    "9b52f10e-f0cf-41c0-a781-5a221f15142f.png": {
     "image/png": "[encoded data removed]"
    },
    "d80d7d9d-c78a-4d55-a608-17c279506a1a.png": {
     "image/png": "[encoded data removed]"
    }
   },
   "cell_type": "markdown",
   "id": "09680f17-2618-49ae-8c4d-e6f310ca9c35",
   "metadata": {},
   "source": [
    "![image.png](attachment:9b52f10e-f0cf-41c0-a781-5a221f15142f.png)\n",
    "![image.png](attachment:5959e233-f31c-4bc5-bb4d-a655f307823d.png)\n",
    "![image.png](attachment:d80d7d9d-c78a-4d55-a608-17c279506a1a.png)\n"
   ]
  },
  {
   "cell_type": "code",
   "execution_count": null,
   "id": "68f59038-6028-477a-b9da-d4f736edc748",
   "metadata": {},
   "outputs": [],
   "source": []
  }
 ],
 "metadata": {
  "kernelspec": {
   "display_name": "Julia 1.11.5",
   "language": "julia",
   "name": "julia-1.11"
  },
  "language_info": {
   "file_extension": ".jl",
   "mimetype": "application/julia",
   "name": "julia",
   "version": "1.11.5"
  }
 },
 "nbformat": 4,
 "nbformat_minor": 5
}
